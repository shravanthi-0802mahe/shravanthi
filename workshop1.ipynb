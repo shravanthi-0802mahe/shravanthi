{
 "cells": [
  {
   "cell_type": "code",
   "execution_count": 1,
   "id": "edf68ef4",
   "metadata": {},
   "outputs": [
    {
     "name": "stdout",
     "output_type": "stream",
     "text": [
      "helloshrvas\n"
     ]
    }
   ],
   "source": [
    "a=input(\"hello\")"
   ]
  },
  {
   "cell_type": "code",
   "execution_count": 5,
   "id": "ed8c51b2",
   "metadata": {},
   "outputs": [
    {
     "ename": "SyntaxError",
     "evalue": "invalid syntax (4015030755.py, line 3)",
     "output_type": "error",
     "traceback": [
      "\u001b[1;36m  File \u001b[1;32m\"C:\\Users\\acer\\AppData\\Local\\Temp\\ipykernel_7872\\4015030755.py\"\u001b[1;36m, line \u001b[1;32m3\u001b[0m\n\u001b[1;33m    elif (a==3)\u001b[0m\n\u001b[1;37m               ^\u001b[0m\n\u001b[1;31mSyntaxError\u001b[0m\u001b[1;31m:\u001b[0m invalid syntax\n"
     ]
    }
   ],
   "source": [
    "if (a==3):\n",
    "    print(2+2)\n",
    "elif (a==3)\n",
    "    print(3)\n",
    "elif (a==4)\n",
    "    print(4)\n",
    "else:\n",
    "     print(5)\n",
    "        "
   ]
  },
  {
   "cell_type": "code",
   "execution_count": 6,
   "id": "1452f9ac",
   "metadata": {},
   "outputs": [
    {
     "name": "stdout",
     "output_type": "stream",
     "text": [
      "The value of  a is shrvas\n",
      "Add 2 and 2 we get 4  and 3 and 3 is  6\n"
     ]
    }
   ],
   "source": [
    "print(\"The value of  a is\",a)\n",
    "print(\"Add 2 and 2 we get\",2+2,\" and 3 and 3 is \",6)"
   ]
  },
  {
   "cell_type": "code",
   "execution_count": 10,
   "id": "f25d12f9",
   "metadata": {},
   "outputs": [
    {
     "name": "stdout",
     "output_type": "stream",
     "text": [
      "Enter a number3\n",
      "false\n",
      "The type of a is  <class 'str'>\n",
      "The type of b is  <class 'bool'>\n",
      "The type of c is  <class 'int'>\n",
      "The type of d is  <class 'NoneType'>\n"
     ]
    }
   ],
   "source": [
    "a=\"HI\"\n",
    "b=True\n",
    "c=20\n",
    "d=None\n",
    "e=int(input(\"Enter a number\"))\n",
    "if(e==1):\n",
    "    print(\"True\")\n",
    "else:\n",
    "    print(\"false\")\n",
    "print(\"The type of a is \",type(a))\n",
    "print(\"The type of b is \",type(b))\n",
    "print(\"The type of c is \",type(c))\n",
    "print(\"The type of d is \",type(d))"
   ]
  },
  {
   "cell_type": "code",
   "execution_count": 11,
   "id": "4b21cf13",
   "metadata": {},
   "outputs": [
    {
     "name": "stdout",
     "output_type": "stream",
     "text": [
      "Enter the First Number:1\n",
      "Enter the Second Number:2\n",
      "1.0+2.0=\n",
      "3.0\n",
      "1.0-2.0=\n",
      "-1.0\n",
      "1.0*2.0=\n",
      "2.0\n",
      "1.0/2.0=\n",
      "0.5\n"
     ]
    }
   ],
   "source": [
    "n1=float(input(\"Enter the First Number:\"))\n",
    "n2=float(input(\"Enter the Second Number:\"))\n",
    "print(\"{}+{}=\".format(n1,n2))\n",
    "print(n1+n2)\n",
    "print(\"{}-{}=\".format(n1,n2))\n",
    "print(n1-n2)\n",
    "print(\"{}*{}=\".format(n1,n2))\n",
    "print(n1*n2)\n",
    "print(\"{}/{}=\".format(n1,n2))\n",
    "print(n1/n2)"
   ]
  },
  {
   "cell_type": "code",
   "execution_count": 15,
   "id": "a208b5a7",
   "metadata": {},
   "outputs": [
    {
     "name": "stdout",
     "output_type": "stream",
     "text": [
      "Enter first number6\n",
      "Enter second number3\n",
      "Enter the operator+\n",
      "Addition of a and b 9\n"
     ]
    }
   ],
   "source": [
    "a=int(input(\"Enter first number\"))\n",
    "b=int(input(\"Enter second number\"))\n",
    "c=input(\"Enter the operator\")\n",
    "if c=='+':\n",
    "    print(\"Addition of a and b\",a+b)\n",
    "elif c=='-':\n",
    "    print(f\"Subtraction of {a} and {b} is {a-b}\",a-b)\n",
    "elif c=='*':\n",
    "    print(f\"Multiplication of {a} and {b} is {a*b}\",a*b)\n",
    "elif c=='/':\n",
    "    print(f\"Divide of {a} and {b} is {a/b}\",a/b)\n",
    "elif c=='%':\n",
    "    print(f\"Modulus of {a} and {b} is {a%b}\",a%b)\n",
    "else:\n",
    "    print(\"Invalid Syntax\")\n"
   ]
  },
  {
   "cell_type": "code",
   "execution_count": 16,
   "id": "4757f99f",
   "metadata": {},
   "outputs": [
    {
     "name": "stdout",
     "output_type": "stream",
     "text": [
      "Subtraction of 10 and 5 is 5\n"
     ]
    }
   ],
   "source": [
    "a=10\n",
    "b=5\n",
    "print(f\"Subtraction of {a} and {b} is {a-b}\")"
   ]
  },
  {
   "cell_type": "code",
   "execution_count": null,
   "id": "f941c6f8",
   "metadata": {},
   "outputs": [],
   "source": []
  },
  {
   "cell_type": "code",
   "execution_count": null,
   "id": "ad158970",
   "metadata": {},
   "outputs": [],
   "source": []
  }
 ],
 "metadata": {
  "kernelspec": {
   "display_name": "Python 3 (ipykernel)",
   "language": "python",
   "name": "python3"
  },
  "language_info": {
   "codemirror_mode": {
    "name": "ipython",
    "version": 3
   },
   "file_extension": ".py",
   "mimetype": "text/x-python",
   "name": "python",
   "nbconvert_exporter": "python",
   "pygments_lexer": "ipython3",
   "version": "3.9.13"
  }
 },
 "nbformat": 4,
 "nbformat_minor": 5
}
